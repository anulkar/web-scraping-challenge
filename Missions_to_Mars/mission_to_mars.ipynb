{
 "nbformat": 4,
 "nbformat_minor": 2,
 "metadata": {
  "language_info": {
   "name": "python",
   "codemirror_mode": {
    "name": "ipython",
    "version": 3
   },
   "version": "3.7.5-final"
  },
  "orig_nbformat": 2,
  "file_extension": ".py",
  "mimetype": "text/x-python",
  "name": "python",
  "npconvert_exporter": "python",
  "pygments_lexer": "ipython3",
  "version": 3,
  "kernelspec": {
   "name": "python37564bitpythondatacondac30bd6fcf4694af7948ebff9c485f105",
   "display_name": "Python 3.7.5 64-bit ('PythonData': conda)"
  }
 },
 "cells": [
  {
   "cell_type": "code",
   "execution_count": 63,
   "metadata": {},
   "outputs": [],
   "source": [
    "# Dependencies\n",
    "from splinter import Browser\n",
    "from bs4 import BeautifulSoup, UnicodeDammit\n",
    "from urllib.parse import urlparse\n",
    "import requests\n",
    "import pymongo\n",
    "import pandas as pd"
   ]
  },
  {
   "cell_type": "code",
   "execution_count": 10,
   "metadata": {},
   "outputs": [],
   "source": [
    "# To use splinter create a new Chrome headless Browser instance\n",
    "executable_path = {'executable_path': '/usr/local/bin/chromedriver'}\n",
    "browser1 = Browser('chrome', **executable_path, headless=False)"
   ]
  },
  {
   "cell_type": "markdown",
   "execution_count": null,
   "metadata": {},
   "outputs": [],
   "source": [
    "## Step 1 - Web Scraping"
   ]
  },
  {
   "cell_type": "code",
   "execution_count": 11,
   "metadata": {},
   "outputs": [],
   "source": [
    "# URL of Nasa Mars News Site that we want to scrape\n",
    "nasa_mars_news_url = 'https://mars.nasa.gov/news/?page=0&per_page=40&order=publish_date+desc%2Ccreated_at+desc&search=&category=19%2C165%2C184%2C204&blank_scope=Latest'\n",
    "\n",
    "# Visit the Nasa Mars News Site\n",
    "browser1.visit(nasa_mars_news_url)"
   ]
  },
  {
   "cell_type": "markdown",
   "execution_count": null,
   "metadata": {},
   "outputs": [],
   "source": [
    "### Scrape the [NASA Mars News](https://mars.nasa.gov/news/) Site and retrieve the latest News Title and Paragraph Text"
   ]
  },
  {
   "cell_type": "code",
   "execution_count": 12,
   "metadata": {},
   "outputs": [
    {
     "name": "stdout",
     "output_type": "stream",
     "text": "STARTING to Scrape the site: https://mars.nasa.gov/news/?page=0&per_page=40&order=publish_date+desc%2Ccreated_at+desc&search=&category=19%2C165%2C184%2C204&blank_scope=Latest\n---------------------------\nNews Title: Virginia Middle School Student Earns Honor of Naming NASA's Next Mars Rover\nNews Teaser: NASA chose a seventh-grader from Virginia as winner of the agency's \"Name the Rover\" essay contest. Alexander Mather's entry for \"Perseverance\" was voted tops among 28,000 entries. \n---------------------------\nNews Title: NASA's Curiosity Mars Rover Snaps Its Highest-Resolution Panorama Yet\nNews Teaser: To go along with the stunning 1.8-billion-pixel image, a new video offers a sweeping view of the Red Planet.\n---------------------------\nNews Title: NASA to Reveal Name of Its Next Mars Rover\nNews Teaser: After a months-long contest among students to name NASA's newest Mars rover, the agency will reveal the winning name — and the winning student — this Thursday. \n---------------------------\nNews Title: The MarCO Mission Comes to an End\nNews Teaser: The pair of briefcase-sized satellites made history when they sailed past Mars in 2019.\n---------------------------\nNews Title: A Year of Surprising Science From NASA's InSight Mars Mission\nNews Teaser: A batch of new papers summarizes the lander's findings above and below the surface of the Red Planet.\n---------------------------\nNews Title: Mars InSight Lander to Push on Top of the 'Mole'\nNews Teaser: Engineers have a plan for pushing down on the heat probe, which has been stuck at the Martian surface for a year.\n---------------------------\nNews Title: Common Questions about InSight's 'Mole'\nNews Teaser: The following Q&As with members of the team answer some of the most common questions about the burrowing device, part of a science instrument called the Heat Flow and Physical Properties Package (HP3).\n---------------------------\nNews Title: NASA Adds Return Sample Scientists to Mars 2020 Leadership Team\nNews Teaser: The leadership council for Mars 2020 science added two new members who represent the interests of scientists destined to handle and study the first samples from Red Planet.\n---------------------------\nNews Title: NASA's Mars Reconnaissance Orbiter Undergoes Memory Update\nNews Teaser: Other orbiters will continue relaying data from Mars surface missions for a two-week period.\n---------------------------\nNews Title: NASA's Mars 2020 Rover Goes Coast-to-Coast to Prep for Launch\nNews Teaser: The agency's first step in returning rocks from Mars just arrived at Kennedy Space Center. The Mars 2020 team now begins readying for a launch to the Red Planet this July.\n---------------------------\nNews Title: NASA Prepares for Moon and Mars With New Addition to Its Deep Space Network\nNews Teaser: Robotic spacecraft will be able to communicate with the dish using radio waves and lasers.\n---------------------------\nNews Title: NASA Administrator Statement on Moon to Mars Initiative, FY 2021 Budget\nNews Teaser: Jim Bridenstine addresses NASA's ambitious plans for the coming years, including Mars Sample Return.\n---------------------------\nNews Title: All About the Laser (and Microphone) Atop Mars 2020, NASA's Next Rover\nNews Teaser: SuperCam is a rock-vaporizing instrument that will help scientists hunt for Mars fossils.\n---------------------------\nNews Title: NASA's MAVEN Explores Mars to Understand Radio Interference at Earth\nNews Teaser: NASA’s MAVEN spacecraft has discovered “layers” and “rifts” in the electrically charged part of the upper atmosphere of Mars.\n---------------------------\nNews Title: Nine Finalists Chosen in NASA's Mars 2020 Rover Naming Contest\nNews Teaser: Nine finalists have been chosen in the essay contest for K-12 students across U.S. to name NASA's next Mars rover. Now you can help by voting for your favorite. \n---------------------------\nNews Title: NASA's Mars 2020 Rover Closer to Getting Its Name\nNews Teaser: 155 students from across the U.S. have been chosen as semifinalists in NASA's essay contest to name the Mars 2020 rover, and see it launch from Cape Canaveral this July.\n---------------------------\nNews Title: Media Get a Close-Up of NASA's Mars 2020 Rover\nNews Teaser: The clean room at NASA's Jet Propulsion Laboratory was open to the media to see NASA's next Mars explorer before it leaves for Florida in preparation for a summertime launch.\n---------------------------\nNews Title: Space History Is Made in This NASA Robot Factory\nNews Teaser: From rockets to rovers, JPL's Spacecraft Assembly Facility has been at the center of robotic spaceflight. Here's a closer look at what makes it so special.\n---------------------------\nNews Title: NASA's Mars 2020 Rover Completes Its First Drive\nNews Teaser: In a 10-plus-hour marathon, the rover steered, turned and drove in 3-foot (1-meter) increments over small ramps.\n---------------------------\nNews Title: NASA's MAVEN Maps Winds in the Martian Upper Atmosphere that Mirror the Terrain Below and Gives Clues to Martian Climate\nNews Teaser: Researchers have created the first map of wind circulation in the upper atmosphere of a planet besides Earth, using data from NASA’s MAVEN spacecraft that were collected during the last two years.\n---------------------------\nNews Title: Newfound Martian Aurora Actually the Most Common; Sheds Light on Mars' Changing Climate\nNews Teaser: A type of Martian aurora first identified by NASA’s MAVEN spacecraft in 2016 is actually the most common form of aurora occurring on the Red Planet, according to new results from the mission.\n---------------------------\nNews Title: NASA's Treasure Map for Water Ice on Mars\nNews Teaser: A new study identifies frozen water just below the Martian surface, where astronauts could easily dig it up.\n---------------------------\nNews Title: Two Rovers to Roll on Mars Again: Curiosity and Mars 2020\nNews Teaser: They look like twins. But under the hood, the rover currently exploring the Red Planet and the one launching there this summer have distinct science tools and roles to play.\n---------------------------\nNews Title: NASA's Briefcase-Size MarCO Satellite Picks Up Honors\nNews Teaser: The twin spacecraft, the first of their kind to fly into deep space, earn a Laureate from Aviation Week & Space Technology.\n---------------------------\nNews Title: Global Storms on Mars Launch Dust Towers Into the Sky\nNews Teaser: A Mars Dust Tower Stands Out Dust storms are common on Mars. But every decade or so, something unpredictable happens: a series of runaway storms break out, covering the entire planet in a dusty haze.\n---------------------------\nNews Title: NASA Updates Mars 2020 Mission Environmental Review\nNews Teaser: NASA and the Department of Energy have completed a more detailed risk analysis for the Mars 2020 rover launch from Florida.\n---------------------------\nNews Title: Two of a Space Kind: Apollo 12 and Mars 2020\nNews Teaser: Apollo 12 and the upcoming Mars 2020 mission may be separated by half a century, but they share several goals unique in the annals of space exploration.\n---------------------------\nNews Title: Mars Scientists Investigate Ancient Life in Australia\nNews Teaser: Teams with NASA's Mars 2020 and ESA's ExoMars practiced hunting for fossilized microbial life in the Australian Outback in preparation for their Red Planet missions. \n---------------------------\nNews Title: NASA's Mars 2020 Will Hunt for Microscopic Fossils\nNews Teaser: A new paper identifies a ring of minerals at the rover's landing site that are ideal for fossilizing microbial life.\n---------------------------\nNews Title: With Mars Methane Mystery Unsolved, Curiosity Serves Scientists a New One: Oxygen\nNews Teaser: For the first time in the history of space exploration, scientists have measured the seasonal changes in the gases that fill the air directly above the surface of Gale Crater on Mars. \n---------------------------\nNews Title: NASA's Mars 2020 Heads Into the Test Chamber\nNews Teaser: In this time-lapse video taken at JPL, engineers move the Mars 2020 rover into a large vacuum chamber for testing in Mars-like environmental conditions.\n---------------------------\nNews Title: Screening Soon: 'The Pathfinders' Trains Lens on Mars\nNews Teaser: With the Mars 2020 mission ramping up, the documentary — the first of four about past JPL missions to the Red Planet to be shown at Caltech — tells a gripping backstory.\n---------------------------\nNews Title: InSight's 'Mole' Team Peers into the Pit\nNews Teaser: Efforts to save the heat probe continue.\n---------------------------\nNews Title: Mars 2020 Stands on Its Own Six Wheels\nNews Teaser: In time-lapse video, taken at JPL, captures the first time NASA's Mars 2020 rover carries its full weight on its legs and wheels.\n---------------------------\nNews Title: New Selfie Shows Curiosity, the Mars Chemist\nNews Teaser: The NASA rover performed a special chemistry experiment at the location captured in its newest self-portrait.\n---------------------------\nNews Title: Naming a NASA Mars Rover Can Change Your Life\nNews Teaser: Want to name the robotic scientist NASA is sending to Mars in 2020? The student who named Curiosity — the rover currently exploring Mars — will tell you this is an opportunity worth taking.\n---------------------------\nNews Title: Mars 2020 Unwrapped and Ready for More Testing\nNews Teaser: In time-lapse video, bunny-suited engineers remove the inner layer of protective foil on NASA's Mars 2020 rover after it was relocated for testing.\n---------------------------\nNews Title: HiRISE Views NASA's InSight and Curiosity on Mars\nNews Teaser: New images taken from space offer the clearest orbital glimpse yet of InSight as well as a view of Curiosity rolling along.\n---------------------------\nNews Title: NASA's Curiosity Rover Finds an Ancient Oasis on Mars\nNews Teaser: New evidence suggests salty, shallow ponds once dotted a Martian crater — a sign of the planet's drying climate.\n---------------------------\nNews Title: NASA's Mars 2020 Rover Tests Descent-Stage Separation\nNews Teaser: A crane lifts the rocket-powered descent stage away from NASA's Mars 2020 rover after technicians tested the pyrotechnic charges that separate the two spacecraft.\n---------------------------\nDONE with Scraping 40 News Titles and 40 News Teasers\n---------------------------\n"
    }
   ],
   "source": [
    "# Collect the latest News Title and Paragraph Text\n",
    "\n",
    "# Initialize lists to save titles and teasers (i.e. paragraph texts)\n",
    "news_titles = []\n",
    "news_teasers = []\n",
    "\n",
    "# Get the HTML content of the visited page\n",
    "nasa_mars_news_html = browser1.html\n",
    "\n",
    "# Create BeautifulSoup object; parse with lxml parser\n",
    "nasa_news_soup = BeautifulSoup(nasa_mars_news_html, 'lxml')\n",
    "\n",
    "news_listings = nasa_news_soup.find_all('div', class_='list_text')\n",
    "\n",
    "print(f\"STARTING to Scrape the site: {nasa_mars_news_url}\")\n",
    "print(\"---------------------------\")\n",
    "# Loop through news listings\n",
    "for news_listing in news_listings:\n",
    "    try:\n",
    "        # Retrieve the news title and save to a list\n",
    "        news_title = news_listing.find('div', class_='content_title').find('a').text\n",
    "        news_titles.append(news_title)\n",
    "\n",
    "        # Retrieve the news paragraph text/teaser and save to a list\n",
    "        news_teaser = news_listing.find('div', class_='article_teaser_body').text\n",
    "        news_teasers.append(news_teaser)\n",
    "        \n",
    "        print(f\"News Title: {news_title}\")\n",
    "        print(f\"News Teaser: {news_teaser}\")\n",
    "        print(\"---------------------------\")\n",
    "    except AttributeError as e:\n",
    "        print(e)\n",
    "print(f\"DONE with Scraping {len(news_titles)} News Titles and {len(news_teasers)} News Teasers\")\n",
    "print(\"---------------------------\")"
   ]
  },
  {
   "cell_type": "markdown",
   "execution_count": null,
   "metadata": {},
   "outputs": [],
   "source": [
    "### Find the image URL for the current Featured Mars Image on the [JPL Mars Space Images](https://www.jpl.nasa.gov/spaceimages/?search=&category=Mars) page"
   ]
  },
  {
   "cell_type": "code",
   "execution_count": 13,
   "metadata": {},
   "outputs": [],
   "source": [
    "# URL of JPL Mars Space Images Site that we want to scrape\n",
    "jpl_mars_images_url = 'https://www.jpl.nasa.gov/spaceimages/?search=&category=Mars'\n",
    "\n",
    "# Visit the JPL Mars Space Images Site using splinter to create a new Chrome headless Browser instance\n",
    "browser2 = Browser('chrome', **executable_path, headless=False)\n",
    "browser2.visit(jpl_mars_images_url)"
   ]
  },
  {
   "cell_type": "code",
   "execution_count": 14,
   "metadata": {},
   "outputs": [
    {
     "name": "stdout",
     "output_type": "stream",
     "text": "Found the following Featured Image on the JPL Mars Space Images site: https://www.jpl.nasa.gov/spaceimages/images/mediumsize/PIA16726_ip.jpg\n"
    }
   ],
   "source": [
    "# Get the HTML content of the visited page\n",
    "jpl_mars_images_html = browser2.html\n",
    "\n",
    "# Create BeautifulSoup object; parse with lxml parser\n",
    "jpl_images_soup = BeautifulSoup(jpl_mars_images_html, 'lxml')\n",
    "\n",
    "# Find the image url for the current Featured Mars Image\n",
    "try:\n",
    "    featured_image_href = jpl_images_soup.find('div', class_='default floating_text_area ms-layer').find('footer').find('a')['data-fancybox-href']\n",
    "except AttributeError as e:\n",
    "    print(e)\n",
    "\n",
    "# Parse the JPL website URL and save a complete url string for the feature image\n",
    "parsed_uri = urlparse(jpl_mars_images_url)\n",
    "featured_image_url = f'{parsed_uri.scheme}://{parsed_uri.netloc}{featured_image_href}'\n",
    "print(f\"Found the following Featured Image on the JPL Mars Space Images site: {featured_image_url}\")"
   ]
  },
  {
   "cell_type": "markdown",
   "execution_count": null,
   "metadata": {},
   "outputs": [],
   "source": [
    "### Visit the [Mars Weather twitter account](https://twitter.com/marswxreport?lang=en) and scrape the latest Mars weather tweet containing the weather report tweet text"
   ]
  },
  {
   "cell_type": "code",
   "execution_count": 15,
   "metadata": {},
   "outputs": [],
   "source": [
    "# URL of Twitter page to be scraped\n",
    "mars_twitter_url = 'https://twitter.com/marswxreport?lang=en'\n",
    "\n",
    "# Retrieve page with the requests module\n",
    "browser3 = Browser('chrome', **executable_path, headless=False)\n",
    "browser3.visit(mars_twitter_url)"
   ]
  },
  {
   "cell_type": "code",
   "execution_count": 18,
   "metadata": {},
   "outputs": [
    {
     "name": "stdout",
     "output_type": "stream",
     "text": "Here is the latest weather report tweet from Mars Twitter\n----------------------------------------------------------\nsol 455 (2020-03-08) low -95.4ºC (-139.8ºF) high -13.0ºC (8.5ºF)\nwinds from the SSE at 6.0 m/s (13.5 mph) gusting to 20.7 m/s (46.2 mph)\npressure at 6.40 hPa\n"
    }
   ],
   "source": [
    "# Get the HTML content of the visited page\n",
    "mars_twitter_html = browser3.html\n",
    "\n",
    "# Create BeautifulSoup object; parse with lxml parser\n",
    "mars_twitter_soup = BeautifulSoup(mars_twitter_html, 'lxml')\n",
    "\n",
    "# Retrieve the span tag for the specific class that holds all the tweet texts\n",
    "mars_weather_tweets = mars_twitter_soup.find_all('span', class_='css-901oao css-16my406 r-1qd0xha r-ad9z0x r-bcqeeo r-qvutc0')\n",
    "\n",
    "# Loop through each tweet resultset\n",
    "for mars_weather_tweet in mars_weather_tweets: \n",
    "    try:\n",
    "        # Convert tweet text to lower case\n",
    "        mars_weather = mars_weather_tweet.text\n",
    "        lcase_mars_weather = mars_weather.lower()\n",
    "\n",
    "        # All Mars Weather tweets begin with the text \"insight sol\", so we only look for those tweets\n",
    "        if lcase_mars_weather.startswith('insight sol'):\n",
    "            # Remove the \"InSight\" word from the tweet text\n",
    "            mars_weather = mars_weather.replace(\"InSight \", \"\")\n",
    "            # Print the weather tweet and break from loop\n",
    "            print(\"Here is the latest weather report tweet from Mars Twitter\")\n",
    "            print(\"----------------------------------------------------------\")\n",
    "            print(mars_weather)\n",
    "            break\n",
    "        else:\n",
    "            # Continue looping until we find the weather tweet\n",
    "            continue\n",
    "    except AttributeError as e:\n",
    "        print(e)"
   ]
  },
  {
   "cell_type": "markdown",
   "execution_count": null,
   "metadata": {},
   "outputs": [],
   "source": [
    "### Visit the [Mars Facts webpage](https://space-facts.com/mars/) and use Pandas to scrape the table containing facts about the planet including Diameter, Mass, etc."
   ]
  },
  {
   "cell_type": "code",
   "execution_count": 28,
   "metadata": {},
   "outputs": [
    {
     "data": {
      "text/html": "<div>\n<style scoped>\n    .dataframe tbody tr th:only-of-type {\n        vertical-align: middle;\n    }\n\n    .dataframe tbody tr th {\n        vertical-align: top;\n    }\n\n    .dataframe thead th {\n        text-align: right;\n    }\n</style>\n<table border=\"1\" class=\"dataframe\">\n  <thead>\n    <tr style=\"text-align: right;\">\n      <th></th>\n      <th>Value</th>\n    </tr>\n    <tr>\n      <th>Description</th>\n      <th></th>\n    </tr>\n  </thead>\n  <tbody>\n    <tr>\n      <th>Equatorial Diameter:</th>\n      <td>6,792 km</td>\n    </tr>\n    <tr>\n      <th>Polar Diameter:</th>\n      <td>6,752 km</td>\n    </tr>\n    <tr>\n      <th>Mass:</th>\n      <td>6.39 × 10^23 kg (0.11 Earths)</td>\n    </tr>\n    <tr>\n      <th>Moons:</th>\n      <td>2 (Phobos &amp; Deimos)</td>\n    </tr>\n    <tr>\n      <th>Orbit Distance:</th>\n      <td>227,943,824 km (1.38 AU)</td>\n    </tr>\n    <tr>\n      <th>Orbit Period:</th>\n      <td>687 days (1.9 years)</td>\n    </tr>\n    <tr>\n      <th>Surface Temperature:</th>\n      <td>-87 to -5 °C</td>\n    </tr>\n    <tr>\n      <th>First Record:</th>\n      <td>2nd millennium BC</td>\n    </tr>\n    <tr>\n      <th>Recorded By:</th>\n      <td>Egyptian astronomers</td>\n    </tr>\n  </tbody>\n</table>\n</div>",
      "text/plain": "                                              Value\nDescription                                        \nEquatorial Diameter:                       6,792 km\nPolar Diameter:                            6,752 km\nMass:                 6.39 × 10^23 kg (0.11 Earths)\nMoons:                          2 (Phobos & Deimos)\nOrbit Distance:            227,943,824 km (1.38 AU)\nOrbit Period:                  687 days (1.9 years)\nSurface Temperature:                   -87 to -5 °C\nFirst Record:                     2nd millennium BC\nRecorded By:                   Egyptian astronomers"
     },
     "execution_count": 28,
     "metadata": {},
     "output_type": "execute_result"
    }
   ],
   "source": [
    "# URL of Mars Facts webpage to be scraped\n",
    "mars_facts_url = 'https://space-facts.com/mars/'\n",
    "\n",
    "# Use the `read_html` function in Pandas to automatically scrape tabular data from the page\n",
    "# What we get in return is a list of DataFrames for any tabular data that Pandas found\n",
    "mars_facts_tables = pd.read_html(mars_facts_url)\n",
    "\n",
    "# Slice off the first Mars Facts DataFrame that we want using normal indexing\n",
    "mars_facts_df = mars_facts_tables[0]\n",
    "\n",
    "# Rename the DataFrame columns\n",
    "mars_facts_df.columns = ['Description', 'Value']\n",
    "\n",
    "# Set the index to the Description column and print to verify\n",
    "mars_facts_df.set_index('Description', inplace=True)\n",
    "mars_facts_df"
   ]
  },
  {
   "cell_type": "markdown",
   "execution_count": null,
   "metadata": {},
   "outputs": [],
   "source": [
    "### Visit the [USGS Astrogeology site](https://astrogeology.usgs.gov/search/results?q=hemisphere+enhanced&k1=target&v1=Mars)to obtain high resolution images for each of Mars' Hemispheres."
   ]
  },
  {
   "cell_type": "code",
   "execution_count": 46,
   "metadata": {},
   "outputs": [],
   "source": [
    "# URL of USGS Astrogeology site to be scraped\n",
    "usgs_astrogeo_url = 'https://astrogeology.usgs.gov/search/results?q=hemisphere+enhanced&k1=target&v1=Mars'\n",
    "\n",
    "# Retrieve page with the requests module\n",
    "browser4 = Browser('chrome', **executable_path, headless=False)\n",
    "browser4.visit(usgs_astrogeo_url)"
   ]
  },
  {
   "cell_type": "code",
   "execution_count": 66,
   "metadata": {},
   "outputs": [
    {
     "name": "stdout",
     "output_type": "stream",
     "text": "[{'title': 'Cerberus Hemisphere Enhanced', 'img_url': 'http://astropedia.astrogeology.usgs.gov/download/Mars/Viking/cerberus_enhanced.tif/full.jpg'}, {'title': 'Schiaparelli Hemisphere Enhanced', 'img_url': 'http://astropedia.astrogeology.usgs.gov/download/Mars/Viking/schiaparelli_enhanced.tif/full.jpg'}, {'title': 'Syrtis Major Hemisphere Enhanced', 'img_url': 'http://astropedia.astrogeology.usgs.gov/download/Mars/Viking/syrtis_major_enhanced.tif/full.jpg'}, {'title': 'Valles Marineris Hemisphere Enhanced', 'img_url': 'http://astropedia.astrogeology.usgs.gov/download/Mars/Viking/valles_marineris_enhanced.tif/full.jpg'}]\n"
    }
   ],
   "source": [
    "# Dictionary and List to hold the image URLs and Titles of Mars' Hemispheres\n",
    "\n",
    "mars_hemisphere_image_dict = {}\n",
    "mars_hemisphere_image_urls = []\n",
    "\n",
    "# Iterate through each of the 4 Mars' Hemispheres pages\n",
    "for x in range(4):\n",
    "    try:\n",
    "        # Click the link to go to the appropriate Hemisphere's \"Enhanced\" page \n",
    "        if x == 0:    \n",
    "            browser4.click_link_by_partial_text('Cerberus')\n",
    "        elif x == 1:\n",
    "            browser4.click_link_by_partial_text('Schiaparelli')\n",
    "        elif x == 2:\n",
    "            browser4.click_link_by_partial_text('Syrtis')\n",
    "        else:\n",
    "            browser4.click_link_by_partial_text('Valles Marineris')\n",
    "\n",
    "        # Get the HTML content of the visited page\n",
    "        usgs_astrogeo_html = browser4.html\n",
    "\n",
    "        # Create BeautifulSoup object; parse with lxml parser\n",
    "        usgs_astrogeo_soup = BeautifulSoup(usgs_astrogeo_html, 'lxml')\n",
    "\n",
    "        # Retrieve the full image URL and title of the hemisphere\n",
    "        full_image_url = usgs_astrogeo_soup.find('div', class_='downloads').find('li').find('a')['href']\n",
    "        mars_hemispheres_title = usgs_astrogeo_soup.find('h2', class_='title').text\n",
    "\n",
    "        # Store the image URL and title into a dictionary and then append it to a list\n",
    "        mars_hemisphere_image_dict = {\"title\": mars_hemispheres_title, \"img_url\": full_image_url}\n",
    "        mars_hemisphere_image_urls.append(dict(mars_hemisphere_image_dict))\n",
    "\n",
    "        # Go back to the main page so we can click on the next Hemisphere page link\n",
    "        browser4.back()\n",
    "    except Exception as e:\n",
    "        print(e)\n",
    "\n",
    "# Print the list of dictionaries\n",
    "print(mars_hemisphere_image_urls)"
   ]
  },
  {
   "cell_type": "code",
   "execution_count": null,
   "metadata": {},
   "outputs": [],
   "source": []
  }
 ]
}