{
 "nbformat": 4,
 "nbformat_minor": 2,
 "metadata": {
  "language_info": {
   "name": "python",
   "codemirror_mode": {
    "name": "ipython",
    "version": 3
   },
   "version": "3.7.5-final"
  },
  "orig_nbformat": 2,
  "file_extension": ".py",
  "mimetype": "text/x-python",
  "name": "python",
  "npconvert_exporter": "python",
  "pygments_lexer": "ipython3",
  "version": 3,
  "kernelspec": {
   "name": "python37564bitpythondatacondac30bd6fcf4694af7948ebff9c485f105",
   "display_name": "Python 3.7.5 64-bit ('PythonData': conda)"
  }
 },
 "cells": [
  {
   "cell_type": "code",
   "execution_count": 13,
   "metadata": {},
   "outputs": [],
   "source": [
    "# Dependencies\n",
    "from splinter import Browser\n",
    "from bs4 import BeautifulSoup, UnicodeDammit\n",
    "from urllib.parse import urlparse\n",
    "import pymongo\n",
    "import pandas as pd"
   ]
  },
  {
   "cell_type": "code",
   "execution_count": 14,
   "metadata": {},
   "outputs": [],
   "source": [
    "# To use splinter create a new Chrome headless Browser instance\n",
    "executable_path = {'executable_path': '/usr/local/bin/chromedriver'}\n",
    "browser1 = Browser('chrome', **executable_path, headless=False)"
   ]
  },
  {
   "cell_type": "markdown",
   "execution_count": null,
   "metadata": {},
   "outputs": [],
   "source": [
    "## Step 1 - Scrape the [NASA Mars News](https://mars.nasa.gov/news/) Site"
   ]
  },
  {
   "cell_type": "code",
   "execution_count": 15,
   "metadata": {},
   "outputs": [],
   "source": [
    "# URL of Nasa Mars News Site that we want to scrape\n",
    "nasa_mars_news_url = 'https://mars.nasa.gov/news/?page=0&per_page=40&order=publish_date+desc%2Ccreated_at+desc&search=&category=19%2C165%2C184%2C204&blank_scope=Latest'\n",
    "\n",
    "# Visit the Nasa Mars News Site\n",
    "browser1.visit(nasa_mars_news_url)"
   ]
  },
  {
   "cell_type": "markdown",
   "execution_count": null,
   "metadata": {},
   "outputs": [],
   "source": [
    "### Collect the latest News Title and Paragraph Text"
   ]
  },
  {
   "cell_type": "code",
   "execution_count": 16,
   "metadata": {},
   "outputs": [],
   "source": [
    "# Collect the latest News Title and Paragraph Text\n",
    "\n",
    "# Initialize lists to save titles and teasers (i.e. paragraph texts)\n",
    "news_titles = []\n",
    "news_teasers = []\n",
    "\n",
    "# Get the HTML content of the visited page\n",
    "nasa_mars_news_html = browser1.html\n",
    "\n",
    "# Create BeautifulSoup object; parse with lxml parser\n",
    "nasa_news_soup = BeautifulSoup(nasa_mars_news_html, 'lxml')\n",
    "\n",
    "news_listings = nasa_news_soup.find_all('div', class_='list_text')\n",
    "\n",
    "# Loop through news listings\n",
    "for news_listing in news_listings:\n",
    "    try:\n",
    "        # Retrieve the news title and save to a list\n",
    "        news_titles.append(news_listing.find('div', class_='content_title').find('a').text)\n",
    "\n",
    "        # Retrieve the news paragraph text/teaser and save to a list\n",
    "        news_teasers.append(news_listing.find('div', class_='article_teaser_body').text)\n",
    "        \n",
    "    except AttributeError as e:\n",
    "        print(e)"
   ]
  },
  {
   "cell_type": "markdown",
   "execution_count": null,
   "metadata": {},
   "outputs": [],
   "source": [
    "### Find the image URL for the current Features Mars Imnage on the [JPL Mars Space Images](https://www.jpl.nasa.gov/spaceimages/?search=&category=Mars) page"
   ]
  },
  {
   "cell_type": "code",
   "execution_count": 17,
   "metadata": {},
   "outputs": [],
   "source": [
    "# URL of JPL Mars Space Images Site that we want to scrape\n",
    "jpl_mars_images_url = 'https://www.jpl.nasa.gov/spaceimages/?search=&category=Mars'\n",
    "\n",
    "# Visit the JPL Mars Space Images Site using splinter to create a new Chrome headless Browser instance\n",
    "browser2 = Browser('chrome', **executable_path, headless=False)\n",
    "browser2.visit(jpl_mars_images_url)"
   ]
  },
  {
   "cell_type": "code",
   "execution_count": 18,
   "metadata": {},
   "outputs": [
    {
     "data": {
      "text/plain": "'https://www.jpl.nasa.gov/spaceimages/images/mediumsize/PIA18914_ip.jpg'"
     },
     "execution_count": 18,
     "metadata": {},
     "output_type": "execute_result"
    }
   ],
   "source": [
    "# Get the HTML content of the visited page\n",
    "jpl_mars_images_html = browser2.html\n",
    "\n",
    "# Create BeautifulSoup object; parse with lxml parser\n",
    "jpl_images_soup = BeautifulSoup(jpl_mars_images_html, 'lxml')\n",
    "\n",
    "# Find the image url for the current Featured Mars Image\n",
    "try:\n",
    "    featured_image_href = jpl_images_soup.find('div', class_='default floating_text_area ms-layer').find('footer').find('a')['data-fancybox-href']\n",
    "except AttributeError as e:\n",
    "    print(e)\n",
    "\n",
    "# Parse the JPL website URL and save a complete url string for the feature image\n",
    "parsed_uri = urlparse(jpl_mars_images_url)\n",
    "featured_image_url = f'{parsed_uri.scheme}://{parsed_uri.netloc}{featured_image_href}'\n",
    "featured_image_url"
   ]
  },
  {
   "cell_type": "code",
   "execution_count": null,
   "metadata": {},
   "outputs": [],
   "source": []
  }
 ]
}