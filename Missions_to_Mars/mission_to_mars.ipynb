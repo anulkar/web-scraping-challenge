{
 "nbformat": 4,
 "nbformat_minor": 2,
 "metadata": {
  "language_info": {
   "name": "python",
   "codemirror_mode": {
    "name": "ipython",
    "version": 3
   },
   "version": "3.7.5-final"
  },
  "orig_nbformat": 2,
  "file_extension": ".py",
  "mimetype": "text/x-python",
  "name": "python",
  "npconvert_exporter": "python",
  "pygments_lexer": "ipython3",
  "version": 3,
  "kernelspec": {
   "name": "python37564bitpythondatacondac30bd6fcf4694af7948ebff9c485f105",
   "display_name": "Python 3.7.5 64-bit ('PythonData': conda)"
  }
 },
 "cells": [
  {
   "cell_type": "code",
   "execution_count": 60,
   "metadata": {},
   "outputs": [],
   "source": [
    "# Dependencies\n",
    "from splinter import Browser\n",
    "from bs4 import BeautifulSoup, UnicodeDammit\n",
    "import html5lib\n",
    "import requests\n",
    "import pymongo\n",
    "import pandas as pd"
   ]
  },
  {
   "cell_type": "code",
   "execution_count": 61,
   "metadata": {},
   "outputs": [],
   "source": [
    "# To use splinter create a new Chrome headless Browser instance\n",
    "executable_path = {'executable_path': '/usr/local/bin/chromedriver'}\n",
    "browser = Browser('chrome', **executable_path, headless=False)"
   ]
  },
  {
   "cell_type": "markdown",
   "metadata": {},
   "source": [
    "## Step 1 - Scrape the NASA Mars News Site\n",
    "### Collect the latest News Title and Paragraph Text"
   ]
  },
  {
   "cell_type": "code",
   "execution_count": 62,
   "metadata": {},
   "outputs": [],
   "source": [
    "# URL of Nasa Mars News Site that we want to scrape\n",
    "nasa_mars_news_url = 'https://mars.nasa.gov/news/?page=0&per_page=40&order=publish_date+desc%2Ccreated_at+desc&search=&category=19%2C165%2C184%2C204&blank_scope=Latest'\n",
    "\n",
    "# Visit the Nasa Mars News Site\n",
    "browser.visit(nasa_mars_news_url)"
   ]
  },
  {
   "cell_type": "code",
   "execution_count": 71,
   "metadata": {},
   "outputs": [
    {
     "data": {
      "text/plain": "[\"Virginia Middle School Student Earns Honor of Naming NASA's Next Mars Rover\",\n \"NASA's Curiosity Mars Rover Snaps Its Highest-Resolution Panorama Yet\",\n 'NASA to Reveal Name of Its Next Mars Rover',\n 'The MarCO Mission Comes to an End',\n \"A Year of Surprising Science From NASA's InSight Mars Mission\",\n \"Mars InSight Lander to Push on Top of the 'Mole'\",\n \"Common Questions about InSight's 'Mole'\",\n 'NASA Adds Return Sample Scientists to Mars 2020 Leadership Team',\n \"NASA's Mars Reconnaissance Orbiter Undergoes Memory Update\",\n \"NASA's Mars 2020 Rover Goes Coast-to-Coast to Prep for Launch\",\n 'NASA Prepares for Moon and Mars With New Addition to Its Deep Space Network',\n 'NASA Administrator Statement on Moon to Mars Initiative, FY 2021 Budget',\n \"All About the Laser (and Microphone) Atop Mars 2020, NASA's Next Rover\",\n \"NASA's MAVEN Explores Mars to Understand Radio Interference at Earth\",\n \"Nine Finalists Chosen in NASA's Mars 2020 Rover Naming Contest\",\n \"NASA's Mars 2020 Rover Closer to Getting Its Name\",\n \"Media Get a Close-Up of NASA's Mars 2020 Rover\",\n 'Space History Is Made in This NASA Robot Factory',\n \"NASA's Mars 2020 Rover Completes Its First Drive\",\n \"NASA's MAVEN Maps Winds in the Martian Upper Atmosphere that Mirror the Terrain Below and Gives Clues to Martian Climate\",\n \"Newfound Martian Aurora Actually the Most Common; Sheds Light on Mars' Changing Climate\",\n \"NASA's Treasure Map for Water Ice on Mars\",\n 'Two Rovers to Roll on Mars Again: Curiosity and Mars 2020',\n \"NASA's Briefcase-Size MarCO Satellite Picks Up Honors\",\n 'Global Storms on Mars Launch Dust Towers Into the Sky',\n 'NASA Updates Mars 2020 Mission Environmental Review',\n 'Two of a Space Kind: Apollo 12 and Mars 2020',\n 'Mars Scientists Investigate Ancient Life in Australia',\n \"NASA's Mars 2020 Will Hunt for Microscopic Fossils\",\n 'With Mars Methane Mystery Unsolved, Curiosity Serves Scientists a New One: Oxygen',\n \"NASA's Mars 2020 Heads Into the Test Chamber\",\n \"Screening Soon: 'The Pathfinders' Trains Lens on Mars\",\n \"InSight's 'Mole' Team Peers into the Pit\",\n 'Mars 2020 Stands on Its Own Six Wheels',\n 'New Selfie Shows Curiosity, the Mars Chemist',\n 'Naming a NASA Mars Rover Can Change Your Life',\n 'Mars 2020 Unwrapped and Ready for More Testing',\n \"HiRISE Views NASA's InSight and Curiosity on Mars\",\n \"NASA's Curiosity Rover Finds an Ancient Oasis on Mars\",\n \"NASA's Mars 2020 Rover Tests Descent-Stage Separation\"]"
     },
     "execution_count": 71,
     "metadata": {},
     "output_type": "execute_result"
    }
   ],
   "source": [
    "# Collect the latest News Title and Paragraph Text\n",
    "\n",
    "# Initialize lists to save titles and teasers/paragraph texts\n",
    "news_titles = []\n",
    "news_teasers = []\n",
    "\n",
    "# Create HTML object\n",
    "html = browser.html\n",
    "\n",
    "# Create BeautifulSoup object; parse with html parser\n",
    "soup = BeautifulSoup(html, 'lxml')\n",
    "\n",
    "news_listings = soup.find_all('div', class_='list_text')\n",
    "\n",
    "# Loop through news listings\n",
    "for news_listing in news_listings:\n",
    "    try:\n",
    "        # Retrieve the news title and save to a list\n",
    "        news_titles.append(news_listing.find('div', class_='content_title').find('a').text)\n",
    "\n",
    "        # Retrieve the news description/paragraph text and save to a list\n",
    "        news_teasers.append(news_listing.find('div', class_='article_teaser_body').text)\n",
    "        \n",
    "    except AttributeError as e:\n",
    "        print(e)"
   ]
  },
  {
   "cell_type": "code",
   "execution_count": null,
   "metadata": {},
   "outputs": [],
   "source": []
  }
 ]
}